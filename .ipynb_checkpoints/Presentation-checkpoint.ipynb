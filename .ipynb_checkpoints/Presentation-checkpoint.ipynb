{
 "metadata": {
  "name": "",
  "signature": "sha256:f7b82f6a9df58d4c9f3eb20bf212434d728d3498da47f279e7b1fb6787ac8ff4"
 },
 "nbformat": 3,
 "nbformat_minor": 0,
 "worksheets": []
}